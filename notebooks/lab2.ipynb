{
 "cells": [
  {
   "cell_type": "code",
   "execution_count": 1,
   "id": "0aa6847d-dd40-42e2-97ca-2956910e5d7a",
   "metadata": {},
   "outputs": [
    {
     "name": "stdout",
     "output_type": "stream",
     "text": [
      "Time took to run both functions: 0.0005972385406494141 seconds\n"
     ]
    }
   ],
   "source": [
    "from random import choice, randint\n",
    "from string import ascii_letters\n",
    "from time import time\n",
    "\n",
    "def joinChar():\n",
    "    return \"\".join([choice(ascii_letters) for _ in range(1000)])\n",
    "\n",
    "def sumNum():\n",
    "    return sum([randint(1, 1000) for _ in range(1000)])\n",
    "\n",
    "start = time()\n",
    "joinChar()\n",
    "sumNum()\n",
    "end = time()\n",
    "\n",
    "timeTaken = end - start\n",
    "\n",
    "print(f\"Time took to run both functions: {timeTaken} seconds\")"
   ]
  },
  {
   "cell_type": "code",
   "execution_count": 2,
   "id": "99f92257-d835-4259-9bec-407747323637",
   "metadata": {},
   "outputs": [
    {
     "name": "stdout",
     "output_type": "stream",
     "text": [
      "Time took to run both functions: 0.0014529228210449219 seconds\n"
     ]
    }
   ],
   "source": [
    "from random import choice, randint\n",
    "from string import ascii_letters\n",
    "from time import time\n",
    "from threading import Thread\n",
    "\n",
    "def joinChar():\n",
    "    return \"\".join([choice(ascii_letters) for _ in range(1000)])\n",
    "\n",
    "def sumNum():\n",
    "    return sum([randint(1, 1000) for _ in range(1000)])\n",
    "\n",
    "start = time()\n",
    "\n",
    "charThread = Thread(target=joinChar)\n",
    "sumThread = Thread(target=sumNum)\n",
    "\n",
    "charThread.start()\n",
    "sumThread.start()\n",
    "\n",
    "charThread.join()\n",
    "sumThread.join()\n",
    "\n",
    "end = time()\n",
    "\n",
    "timeTaken = end - start\n",
    "\n",
    "print(f\"Time took to run both functions: {timeTaken} seconds\")"
   ]
  },
  {
   "cell_type": "code",
   "execution_count": 10,
   "id": "a214e792-86eb-4114-9e19-74006ced23c2",
   "metadata": {},
   "outputs": [
    {
     "name": "stdout",
     "output_type": "stream",
     "text": [
      "Process-1: 1\n",
      "Process-2: 1\n",
      "Process-1: 2\n",
      "Process-1: 3\n",
      "Process-2: 2\n",
      "Process-1: 4\n",
      "Process-1: 5\n",
      "Process-2: 3\n",
      "Process-2: 4\n",
      "Process-2: 5\n",
      "Time took to run both processes: 10.02434492111206 seconds\n"
     ]
    }
   ],
   "source": [
    "import multiprocessing\n",
    "from time import time, sleep\n",
    "\n",
    "# Function to be executed in a process\n",
    "def print_numbers(process_name, delay):\n",
    "    count = 0\n",
    "    while count < 5:\n",
    "        sleep(delay)\n",
    "        count += 1\n",
    "        print(f\"{process_name}: {count}\")\n",
    "\n",
    "start = time()\n",
    "\n",
    "# Create two processes\n",
    "process1 = multiprocessing.Process(target=print_numbers, args=(\"Process-1\", 1))\n",
    "process2 = multiprocessing.Process(target=print_numbers, args=(\"Process-2\", 2))\n",
    "\n",
    "# Start the processes\n",
    "process1.start()\n",
    "process2.start()\n",
    "\n",
    "# Wait for all processes to complete\n",
    "process1.join()\n",
    "process2.join()\n",
    "\n",
    "end = time()\n",
    "timeTaken = end - start\n",
    "\n",
    "print(f\"Time took to run both processes: {timeTaken} seconds\")\n"
   ]
  },
  {
   "cell_type": "code",
   "execution_count": null,
   "id": "03c2e4b5-49f3-4291-858e-5eb9d7db2c83",
   "metadata": {},
   "outputs": [],
   "source": []
  }
 ],
 "metadata": {
  "kernelspec": {
   "display_name": "Python 3 (ipykernel)",
   "language": "python",
   "name": "python3"
  },
  "language_info": {
   "codemirror_mode": {
    "name": "ipython",
    "version": 3
   },
   "file_extension": ".py",
   "mimetype": "text/x-python",
   "name": "python",
   "nbconvert_exporter": "python",
   "pygments_lexer": "ipython3",
   "version": "3.12.7"
  }
 },
 "nbformat": 4,
 "nbformat_minor": 5
}
